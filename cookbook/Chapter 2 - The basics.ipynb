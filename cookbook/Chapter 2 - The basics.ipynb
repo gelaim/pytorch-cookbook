{
 "cells": [
  {
   "cell_type": "markdown",
   "id": "48d353f7-3eef-4940-b540-7e3c828262ef",
   "metadata": {},
   "source": [
    "# Pytorch Tensors\n",
    "\n",
    "A tensor is a data structure, a n-dimensional matrix of only one data type. \n",
    "For example: 32-bit floating point, 32-bit complex, 32-bit integer (signed), Boolean...\n",
    "A Tensor doesn't know anything about neural networks, it is used to encode inputs, outputs and parameters of a model.\n",
    "\n",
    "### References\n",
    "[links](https://pytorch.org/docs/stable/tensors.html)"
   ]
  },
  {
   "cell_type": "markdown",
   "id": "b2296066-42c5-407a-a75a-2050a233f438",
   "metadata": {},
   "source": [
    "### Tensors vs numpy arrays vs lists (??)\n",
    "\n",
    "Warning: Isn't a smart idea using lists in ML!\n",
    "Numpy may not be the smartest idea for ML, it is designed for fast computations. \n",
    "It can be used for ML when combined with a ML package.\n",
    "\n",
    "One of the main differences between a numpy array and a Pytorch tensor is that a pytorch is specifically tailored for GPU.\n"
   ]
  },
  {
   "cell_type": "code",
   "execution_count": 1,
   "id": "36df4a61-258f-431a-be35-82ea38313973",
   "metadata": {},
   "outputs": [
    {
     "name": "stdout",
     "output_type": "stream",
     "text": [
      "tensor([[0., 0., 0., 0.]])\n",
      "[0. 0. 0. 0.]\n",
      "[0.0, 0.0, 0.0, 0.0]\n"
     ]
    }
   ],
   "source": [
    "import torch\n",
    "import numpy as np\n",
    "\n",
    "x = torch.zeros(1,4)\n",
    "y = np.zeros(4)\n",
    "z = [0.]*4\n",
    "\n",
    "print(x)\n",
    "print(y)\n",
    "print(z)"
   ]
  },
  {
   "cell_type": "code",
   "execution_count": 2,
   "id": "c2affe73-b574-4826-a60d-6e0336ec794f",
   "metadata": {},
   "outputs": [
    {
     "name": "stdout",
     "output_type": "stream",
     "text": [
      "Size of the tensor is 72 bytes\n",
      "Size of the numpy array is 144 bytes\n",
      "Size of the list is 88 bytes\n"
     ]
    }
   ],
   "source": [
    "from sys import getsizeof\n",
    "\n",
    "\n",
    "print(f'Size of the tensor is {getsizeof(x)} bytes')\n",
    "print(f'Size of the numpy array is {getsizeof(y)} bytes')\n",
    "print(f'Size of the list is {getsizeof(z)} bytes')\n"
   ]
  },
  {
   "cell_type": "markdown",
   "id": "4a2a8217-a8b9-424b-9d29-b3dcb1bd4b53",
   "metadata": {},
   "source": [
    "Data from a numpy array can be loaded/converted to a torch tensor and vice versa"
   ]
  },
  {
   "cell_type": "code",
   "execution_count": 3,
   "id": "081b9aaf-54dd-48de-a10a-209e64b1bfa7",
   "metadata": {},
   "outputs": [
    {
     "data": {
      "text/plain": [
       "array([1, 2, 3, 4, 5, 6])"
      ]
     },
     "execution_count": 3,
     "metadata": {},
     "output_type": "execute_result"
    }
   ],
   "source": [
    "x = np.array([1,2,3,4,5,6])\n",
    "x"
   ]
  },
  {
   "cell_type": "code",
   "execution_count": 4,
   "id": "db4b7fcc-1aa9-4608-9af4-43d3395c066d",
   "metadata": {},
   "outputs": [
    {
     "data": {
      "text/plain": [
       "tensor([1, 2, 3, 4, 5, 6])"
      ]
     },
     "execution_count": 4,
     "metadata": {},
     "output_type": "execute_result"
    }
   ],
   "source": [
    "y = torch.from_numpy(x)\n",
    "y"
   ]
  },
  {
   "cell_type": "markdown",
   "id": "8be1b85c-d7b8-4df6-9ec2-95324c820cc5",
   "metadata": {},
   "source": [
    "It's important to note that if we change the x (numpy array) value here, we are also changing the y (tensor) value."
   ]
  },
  {
   "cell_type": "code",
   "execution_count": 5,
   "id": "d6f249db-3f9b-4af0-97cf-7a0e6a98f4c8",
   "metadata": {},
   "outputs": [
    {
     "name": "stdout",
     "output_type": "stream",
     "text": [
      "numpy array value = [1 2 3 4 5 6]\n",
      "tensor value = tensor([1, 2, 3, 4, 5, 6])\n",
      "numpy array value after adding one to each array element = [2 3 4 5 6 7]\n",
      "current tensor value = tensor([2, 3, 4, 5, 6, 7])\n"
     ]
    }
   ],
   "source": [
    "print(f'numpy array value = {x}')\n",
    "print(f'tensor value = {y}')\n",
    "x+=1\n",
    "print(f'numpy array value after adding one to each array element = {x}')\n",
    "print(f'current tensor value = {y}')\n"
   ]
  },
  {
   "cell_type": "code",
   "execution_count": 6,
   "id": "1697e93a-6e61-4834-b002-b199670367fe",
   "metadata": {},
   "outputs": [
    {
     "data": {
      "text/plain": [
       "array([2, 3, 4, 5, 6, 7])"
      ]
     },
     "execution_count": 6,
     "metadata": {},
     "output_type": "execute_result"
    }
   ],
   "source": [
    "z = y.numpy()\n",
    "z"
   ]
  },
  {
   "cell_type": "markdown",
   "id": "f1fc5701-f5b2-468d-b1ef-9cbd257a51e7",
   "metadata": {},
   "source": [
    "As we mentioned in the beginning of the chapter, we can run a tensor either on CPU or GPU. A quite handy method for choosing GPU over CPU is"
   ]
  },
  {
   "cell_type": "code",
   "execution_count": 7,
   "id": "5ac9fa2e-b2ca-4db7-af27-1fa79c5f11bd",
   "metadata": {},
   "outputs": [
    {
     "data": {
      "text/plain": [
       "device(type='cuda')"
      ]
     },
     "execution_count": 7,
     "metadata": {},
     "output_type": "execute_result"
    }
   ],
   "source": [
    "device = torch.device('cuda' if torch.cuda.is_available() else 'cpu')\n",
    "device"
   ]
  },
  {
   "cell_type": "markdown",
   "id": "176ae1b1-aa1a-4cc5-8634-5657609f103b",
   "metadata": {},
   "source": [
    "If we want to send a tensor from CPU to GPU we must use the to() method"
   ]
  },
  {
   "cell_type": "code",
   "execution_count": 8,
   "id": "89225bd7-e0fd-40d3-8a5c-741a9701f330",
   "metadata": {},
   "outputs": [
    {
     "data": {
      "text/plain": [
       "tensor([1., 1., 1., 1.], device='cuda:0')"
      ]
     },
     "execution_count": 8,
     "metadata": {},
     "output_type": "execute_result"
    }
   ],
   "source": [
    "x = torch.ones(4)\n",
    "x = x.to(device)\n",
    "x"
   ]
  },
  {
   "cell_type": "markdown",
   "id": "e45b17d5-b8f2-4468-8ea8-2d977da26323",
   "metadata": {},
   "source": [
    "We can also create a tensor in GPU. The main advantage of using GPU is to speed up ML operations"
   ]
  },
  {
   "cell_type": "code",
   "execution_count": 9,
   "id": "fa0aa189-07ee-4af6-a296-c87856891ecd",
   "metadata": {},
   "outputs": [
    {
     "data": {
      "text/plain": [
       "tensor([1., 1., 1., 1.], device='cuda:0')"
      ]
     },
     "execution_count": 9,
     "metadata": {},
     "output_type": "execute_result"
    }
   ],
   "source": [
    "x = torch.ones(4,device=device)\n",
    "x"
   ]
  },
  {
   "cell_type": "markdown",
   "id": "0aa97be0-1ce9-46a4-a468-b512b79548e1",
   "metadata": {},
   "source": [
    "Once we create a tensor in GPU we can't use the numpy() method. Numpy can only handle CPU tensors."
   ]
  },
  {
   "cell_type": "code",
   "execution_count": 10,
   "id": "dd452c68-2c0d-44cb-be64-693502e1c878",
   "metadata": {},
   "outputs": [
    {
     "name": "stdout",
     "output_type": "stream",
     "text": [
      "Ops, you should use Tensor.cpu()\n"
     ]
    }
   ],
   "source": [
    "try:\n",
    "    x = x.numpy()\n",
    "except TypeError:\n",
    "    print('Ops, you should use Tensor.cpu()')"
   ]
  },
  {
   "cell_type": "markdown",
   "id": "4a1fa95b-3b46-4178-b68a-bddb213ec404",
   "metadata": {},
   "source": [
    "Also, we can load data from a list to a torch tensor"
   ]
  },
  {
   "cell_type": "code",
   "execution_count": 11,
   "id": "5f473f98-4959-4cd0-b065-469fb798a034",
   "metadata": {},
   "outputs": [
    {
     "data": {
      "text/plain": [
       "[1, 2, 3, 4, 5, 6]"
      ]
     },
     "execution_count": 11,
     "metadata": {},
     "output_type": "execute_result"
    }
   ],
   "source": [
    "t = [1,2,3,4,5,6]\n",
    "t"
   ]
  },
  {
   "cell_type": "code",
   "execution_count": 12,
   "id": "9a97a6b2-f292-4e9b-a053-50571d5b2173",
   "metadata": {},
   "outputs": [
    {
     "data": {
      "text/plain": [
       "tensor([1, 2, 3, 4, 5, 6])"
      ]
     },
     "execution_count": 12,
     "metadata": {},
     "output_type": "execute_result"
    }
   ],
   "source": [
    "x = torch.tensor(t)\n",
    "x"
   ]
  },
  {
   "cell_type": "markdown",
   "id": "ebc08543-44f5-429c-b609-9a69363c53de",
   "metadata": {},
   "source": [
    "All tensors presented above are 1-dimensional, it is usualy called a vector.\n",
    "A 2-dimensional tensor is sometimes referred as a matrix.\n",
    "\n",
    "Sometimes is important to create a n-dimentional tensor with rand values.\n",
    "And using torch this is really easy!\n",
    "We can create using uniform distribution (rand) or normal distribution(randn)."
   ]
  },
  {
   "cell_type": "code",
   "execution_count": 13,
   "id": "f2d69508-e44f-4008-8cad-e80d61472dcb",
   "metadata": {},
   "outputs": [
    {
     "name": "stdout",
     "output_type": "stream",
     "text": [
      "x tensor([[0.0753, 0.5441],\n",
      "        [0.8994, 0.5197]])\n",
      "y tensor([[0.1709, 0.5705],\n",
      "        [0.8628, 0.0363]])\n"
     ]
    }
   ],
   "source": [
    "\n",
    "x = torch.rand(2,2)\n",
    "\n",
    "shape = (2,2)\n",
    "y = torch.rand(shape)\n",
    "print('x', x)\n",
    "print('y', y)"
   ]
  },
  {
   "cell_type": "markdown",
   "id": "65852040-8801-4711-aaba-b21cd6f32bc0",
   "metadata": {},
   "source": [
    "If we execute the code above again, we will have different tensor's values.\n",
    "In this sense, is important to set a seed to be able to reproduce the code.\n"
   ]
  },
  {
   "cell_type": "code",
   "execution_count": 14,
   "id": "fe2a7253-45fc-4f12-9040-d124b55e6e31",
   "metadata": {},
   "outputs": [
    {
     "name": "stdout",
     "output_type": "stream",
     "text": [
      "\n",
      "set seed\n",
      "\n",
      "x tensor([[0.7576, 0.2793],\n",
      "        [0.4031, 0.7347]])\n",
      "y tensor([[0.0293, 0.7999],\n",
      "        [0.3971, 0.7544]])\n",
      "\n",
      "set seed again\n",
      "\n",
      "x tensor([[0.7576, 0.2793],\n",
      "        [0.4031, 0.7347]])\n",
      "y tensor([[0.0293, 0.7999],\n",
      "        [0.3971, 0.7544]])\n"
     ]
    }
   ],
   "source": [
    "print('\\nset seed\\n')\n",
    "\n",
    "torch.manual_seed(1)\n",
    "\n",
    "x = torch.rand(2,2)\n",
    "shape = (2,2)\n",
    "y = torch.rand(shape)\n",
    "print('x', x)\n",
    "print('y', y)\n",
    "\n",
    "print('\\nset seed again\\n')\n",
    "torch.manual_seed(1)\n",
    "\n",
    "x = torch.rand(2,2)\n",
    "shape = (2,2)\n",
    "y = torch.rand(shape)\n",
    "print('x', x)\n",
    "print('y', y)"
   ]
  },
  {
   "cell_type": "markdown",
   "id": "97a30b41-cd2e-4b17-b6f1-e91819bd3f8e",
   "metadata": {},
   "source": [
    "To create a tensor with a specific data type we should set it as follows:"
   ]
  },
  {
   "cell_type": "code",
   "execution_count": 15,
   "id": "d99ab90d-f4c1-4f63-ac9e-0f79d22a52f3",
   "metadata": {},
   "outputs": [
    {
     "name": "stdout",
     "output_type": "stream",
     "text": [
      "tensor([[1., 1.],\n",
      "        [1., 1.]], dtype=torch.float16)\n",
      "tensor([[1, 1],\n",
      "        [1, 1]], dtype=torch.int32)\n"
     ]
    }
   ],
   "source": [
    "x = torch.ones(2,2,dtype= torch.float16)\n",
    "print(x)\n",
    "x = torch.ones(2,2,dtype= torch.int)\n",
    "print(x)\n"
   ]
  },
  {
   "cell_type": "markdown",
   "id": "81ce3208-63b4-4aa6-9b86-2f36dbd7dc4b",
   "metadata": {},
   "source": [
    "## Math and Tensors\n",
    "\n",
    "Manipulating tensors is an usual task when working with Pytorch.\n",
    "There are over 100 operations described in the [documentation](https://pytorch.org/docs/stable/torch.html).\n",
    "\n"
   ]
  },
  {
   "cell_type": "markdown",
   "id": "dcf4487f-ce94-4762-a71e-f831f692be30",
   "metadata": {},
   "source": [
    "For example, we can create two 1D tensor using 'arange', and apply operations such as multiply, sum..."
   ]
  },
  {
   "cell_type": "code",
   "execution_count": 16,
   "id": "5c0f844c-b186-40c5-a54e-ab654d77dec1",
   "metadata": {},
   "outputs": [
    {
     "data": {
      "text/plain": [
       "tensor([0, 1, 2])"
      ]
     },
     "execution_count": 16,
     "metadata": {},
     "output_type": "execute_result"
    }
   ],
   "source": [
    "x = torch.arange(0,3)\n",
    "x"
   ]
  },
  {
   "cell_type": "code",
   "execution_count": 17,
   "id": "b60ab08c-8d2a-45af-a498-7b28dc233061",
   "metadata": {},
   "outputs": [
    {
     "data": {
      "text/plain": [
       "tensor([1, 2, 3])"
      ]
     },
     "execution_count": 17,
     "metadata": {},
     "output_type": "execute_result"
    }
   ],
   "source": [
    "y = torch.arange(1,4)\n",
    "y"
   ]
  },
  {
   "cell_type": "markdown",
   "id": "9c35f980-c871-4847-ab22-327a3897d684",
   "metadata": {},
   "source": [
    "We can element wise addition using '+' or torch.add()"
   ]
  },
  {
   "cell_type": "code",
   "execution_count": 18,
   "id": "2810135e-3233-4219-8b5b-0d7df79cd841",
   "metadata": {},
   "outputs": [
    {
     "name": "stdout",
     "output_type": "stream",
     "text": [
      "tensor([1, 3, 5])\n",
      "tensor([1, 3, 5])\n"
     ]
    }
   ],
   "source": [
    "print(x+y)\n",
    "print(torch.add(x,y))\n"
   ]
  },
  {
   "cell_type": "markdown",
   "id": "9b10349b-3cd0-4bbc-b29e-5c1b91f19675",
   "metadata": {},
   "source": [
    "The same reasoning can be applied to other operations"
   ]
  },
  {
   "cell_type": "code",
   "execution_count": 19,
   "id": "b563deb6-624d-4503-b0fd-2ff6b99fdb00",
   "metadata": {},
   "outputs": [
    {
     "name": "stdout",
     "output_type": "stream",
     "text": [
      "tensor([0, 2, 6])\n",
      "tensor([0, 2, 6])\n"
     ]
    }
   ],
   "source": [
    "print(x*y)\n",
    "print(torch.mul(x,y))"
   ]
  },
  {
   "cell_type": "code",
   "execution_count": 20,
   "id": "80d6107c-33a7-4d2f-9495-fe8d795e401e",
   "metadata": {},
   "outputs": [
    {
     "name": "stdout",
     "output_type": "stream",
     "text": [
      "tensor([0.0000, 0.5000, 0.6667])\n",
      "tensor([0.0000, 0.5000, 0.6667])\n"
     ]
    }
   ],
   "source": [
    "z = x/y\n",
    "print(z)\n",
    "z = torch.div(x,y)\n",
    "print(z)"
   ]
  },
  {
   "cell_type": "markdown",
   "id": "06f346c6-3b38-4ebc-9d34-d83319880d3d",
   "metadata": {},
   "source": [
    "We can also do inplace operations, i.e. modify the variable"
   ]
  },
  {
   "cell_type": "code",
   "execution_count": 21,
   "id": "43e1fa83-c2a6-4a0c-9178-03d27cc6a033",
   "metadata": {},
   "outputs": [
    {
     "name": "stdout",
     "output_type": "stream",
     "text": [
      "x =  tensor([0, 1, 2])\n",
      "y =  tensor([1, 2, 3])\n",
      "new y =  tensor([1, 3, 5])\n"
     ]
    }
   ],
   "source": [
    "print('x = ', x)\n",
    "print('y = ', y)\n",
    "y.add_(x)\n",
    "print('new y = ', y)\n"
   ]
  },
  {
   "cell_type": "markdown",
   "id": "11e398e5-4a72-4a1c-a351-683444277017",
   "metadata": {},
   "source": [
    "If the tensor is of floats or complex dtypes, we can use functions such as std, abs, sin, bitwise operations"
   ]
  },
  {
   "cell_type": "code",
   "execution_count": 22,
   "id": "0e58bd02-5164-4b1d-b7b7-b1ca972d82ba",
   "metadata": {},
   "outputs": [
    {
     "data": {
      "text/plain": [
       "tensor(0.3469)"
      ]
     },
     "execution_count": 22,
     "metadata": {},
     "output_type": "execute_result"
    }
   ],
   "source": [
    "torch.std(z)"
   ]
  },
  {
   "cell_type": "code",
   "execution_count": 23,
   "id": "dbb93f29-27b4-4fa6-9d63-850f8d49c82f",
   "metadata": {},
   "outputs": [
    {
     "name": "stdout",
     "output_type": "stream",
     "text": [
      "x tensor([[1., 1.],\n",
      "        [1., 1.]])\n",
      "y tensor([[1., 1.],\n",
      "        [1., 1.]])\n",
      "z tensor([[2., 2.],\n",
      "        [2., 2.]])\n",
      "z**2 tensor([[4., 4.],\n",
      "        [4., 4.]])\n"
     ]
    }
   ],
   "source": [
    "x = torch.ones(2,2)\n",
    "print('x',x)\n",
    "y = torch.ones(2,2)\n",
    "print('y',y)\n",
    "z = x+y\n",
    "print('z',z)\n",
    "print('z**2',z**2)"
   ]
  },
  {
   "cell_type": "code",
   "execution_count": 24,
   "id": "a7f0cbda-2e4f-46ca-8b22-3fa6aa8921e9",
   "metadata": {},
   "outputs": [
    {
     "name": "stdout",
     "output_type": "stream",
     "text": [
      "Normal  tensor([ 1., -2.,  3., -4.,  5., -6.])\n",
      "Abs  tensor([1., 2., 3., 4., 5., 6.])\n",
      "Normal  tensor([ 1.9000, -2.1000,  3.8000, -4.2000,  5.7000, -6.3000])\n",
      "Ceil  tensor([ 2., -2.,  4., -4.,  6., -6.])\n"
     ]
    }
   ],
   "source": [
    "x = torch.tensor([1.,-2.,3.,-4.,5.,-6.])\n",
    "print('Normal ',x)\n",
    "x = torch.abs(x)\n",
    "print('Abs ', x)\n",
    "x = torch.tensor([1.9,-2.1,3.8,-4.2,5.7,-6.3])\n",
    "print('Normal ',x)\n",
    "x = torch.ceil(x)\n",
    "print('Ceil ', x)\n"
   ]
  },
  {
   "cell_type": "code",
   "execution_count": 25,
   "id": "aebf21ec-4155-4202-94b5-35bedaddee37",
   "metadata": {},
   "outputs": [
    {
     "name": "stdout",
     "output_type": "stream",
     "text": [
      "x tensor([0.0000, 0.5236, 1.5708])\n",
      "sin tensor([0.0000, 0.5000, 1.0000])\n"
     ]
    }
   ],
   "source": [
    "import math\n",
    "\n",
    "x = torch.tensor([0, math.pi / 6,  math.pi / 2])\n",
    "print('x', x)\n",
    "y = torch.sin(x)\n",
    "print('sin', y)"
   ]
  },
  {
   "cell_type": "markdown",
   "id": "4506d59f-10f4-441b-9450-058ddebb86c1",
   "metadata": {},
   "source": [
    "We can also apply some lists functions\n"
   ]
  },
  {
   "cell_type": "code",
   "execution_count": 26,
   "id": "c61d02f5-8886-4dbd-9cbe-0b5a34d9598f",
   "metadata": {},
   "outputs": [
    {
     "data": {
      "text/plain": [
       "tensor([[1., 1., 1.],\n",
       "        [1., 1., 1.],\n",
       "        [1., 1., 1.]])"
      ]
     },
     "execution_count": 26,
     "metadata": {},
     "output_type": "execute_result"
    }
   ],
   "source": [
    "x = torch.ones(3,3)\n",
    "x"
   ]
  },
  {
   "cell_type": "markdown",
   "id": "c139332f-fd28-4e6d-8195-95ecd8a1c200",
   "metadata": {},
   "source": [
    "For example, we can set all elements from a specific row"
   ]
  },
  {
   "cell_type": "code",
   "execution_count": 27,
   "id": "60a13b45-218c-49bc-a25d-17cfbca928a7",
   "metadata": {},
   "outputs": [
    {
     "data": {
      "text/plain": [
       "tensor([[0., 0., 0.],\n",
       "        [1., 1., 1.],\n",
       "        [1., 1., 1.]])"
      ]
     },
     "execution_count": 27,
     "metadata": {},
     "output_type": "execute_result"
    }
   ],
   "source": [
    "x[0,:]=0\n",
    "x"
   ]
  },
  {
   "cell_type": "code",
   "execution_count": 28,
   "id": "00335f9b-0bb4-4684-9490-660279731a03",
   "metadata": {},
   "outputs": [
    {
     "data": {
      "text/plain": [
       "tensor([[0., 0., 0.],\n",
       "        [1., 1., 0.],\n",
       "        [1., 1., 0.]])"
      ]
     },
     "execution_count": 28,
     "metadata": {},
     "output_type": "execute_result"
    }
   ],
   "source": [
    "x[:,2]=0\n",
    "x"
   ]
  },
  {
   "cell_type": "markdown",
   "id": "fc6c71eb-2f34-4721-9980-8fb215894ca9",
   "metadata": {},
   "source": [
    "We also can get a specific row or column"
   ]
  },
  {
   "cell_type": "code",
   "execution_count": 29,
   "id": "e30e226f-79f4-49c3-a449-6c0bcbee06d8",
   "metadata": {},
   "outputs": [
    {
     "data": {
      "text/plain": [
       "tensor([0., 1., 1.])"
      ]
     },
     "execution_count": 29,
     "metadata": {},
     "output_type": "execute_result"
    }
   ],
   "source": [
    "x[:,0]"
   ]
  },
  {
   "cell_type": "code",
   "execution_count": 30,
   "id": "b15971dd-64e5-4ead-9358-dd4c355c1e42",
   "metadata": {},
   "outputs": [
    {
     "data": {
      "text/plain": [
       "tensor([0., 0., 0.])"
      ]
     },
     "execution_count": 30,
     "metadata": {},
     "output_type": "execute_result"
    }
   ],
   "source": [
    "x[0,:]"
   ]
  },
  {
   "cell_type": "markdown",
   "id": "8be907b6-bf52-426f-80e8-b72176e853e4",
   "metadata": {},
   "source": [
    "To access the value of a cell we can call the item() method. Observe the difference between using x[0][0] and x[0][0].item()"
   ]
  },
  {
   "cell_type": "code",
   "execution_count": 31,
   "id": "1c6e205e-79c8-476c-b50b-23ba8f05aedd",
   "metadata": {},
   "outputs": [
    {
     "name": "stdout",
     "output_type": "stream",
     "text": [
      "tensor([[0., 0., 0.],\n",
      "        [1., 1., 0.],\n",
      "        [1., 1., 0.]])\n",
      "tensor(0.)\n",
      "0.0\n"
     ]
    }
   ],
   "source": [
    "print(x)\n",
    "print(x[0][0])\n",
    "print(x[0][0].item())\n"
   ]
  },
  {
   "cell_type": "markdown",
   "id": "22ee7e15-f3a2-439d-b7b9-92236c592d4b",
   "metadata": {},
   "source": [
    "### Reshape a tensor\n",
    "\n",
    "we can reshape a tensor by calling the view method()\n",
    "For example, if we have a 2x2 tensor, we can create a new 1x4 tensor."
   ]
  },
  {
   "cell_type": "code",
   "execution_count": 32,
   "id": "ee7b0ce3-f682-40cc-ad18-45783bd24bf7",
   "metadata": {},
   "outputs": [
    {
     "name": "stdout",
     "output_type": "stream",
     "text": [
      "tensor([[0.5695, 0.4388],\n",
      "        [0.6387, 0.5247]])\n",
      "len of x = 4\n",
      "tensor([0.5695, 0.4388, 0.6387, 0.5247])\n",
      "len of x after the reshape = 4\n"
     ]
    }
   ],
   "source": [
    "x = torch.rand(2,2)\n",
    "print(x)\n",
    "print(f'len of x = {len(x)*len(x[0])}')\n",
    "x = x.view(4)\n",
    "print(x)\n",
    "print(f'len of x after the reshape = {len(x)}')"
   ]
  },
  {
   "cell_type": "markdown",
   "id": "4839058a-6f1c-4d40-8cb6-d9168813bf84",
   "metadata": {},
   "source": [
    "we can also let torch find the write size of a tensor after a reshape using [-1]. \n",
    "For example,\n",
    "let x be a tensor of 8x8, using the vew() method we have"
   ]
  },
  {
   "cell_type": "code",
   "execution_count": 33,
   "id": "66ea13de-607b-4fda-91fc-fbf0785aa1f3",
   "metadata": {},
   "outputs": [
    {
     "name": "stdout",
     "output_type": "stream",
     "text": [
      "torch.Size([8, 8])\n",
      "after the reshape the size of x is = torch.Size([4, 16])\n"
     ]
    }
   ],
   "source": [
    "x = torch.rand(8,8)\n",
    "print(x.size())\n",
    "\n",
    "x = x.view(-1,16)\n",
    "print(f'after the reshape the size of x is = {x.size()}')"
   ]
  },
  {
   "cell_type": "markdown",
   "id": "89678e01-504a-44b6-ba54-e13ed7957fc9",
   "metadata": {},
   "source": []
  },
  {
   "cell_type": "code",
   "execution_count": null,
   "id": "c28d976c-4993-4731-bb80-372d8b0dfd5a",
   "metadata": {},
   "outputs": [],
   "source": []
  },
  {
   "cell_type": "markdown",
   "id": "bead5881-1cbf-4a04-ac6c-a0f068d3cb11",
   "metadata": {},
   "source": []
  },
  {
   "cell_type": "code",
   "execution_count": null,
   "id": "fb2c4755-0729-4d78-aa4e-52b480474f48",
   "metadata": {},
   "outputs": [],
   "source": []
  },
  {
   "cell_type": "code",
   "execution_count": null,
   "id": "aa4984a2-1b54-4da0-b416-30169ec894d6",
   "metadata": {},
   "outputs": [],
   "source": []
  },
  {
   "cell_type": "code",
   "execution_count": null,
   "id": "e9bf3870-b158-4578-bc89-98a7229e6c2f",
   "metadata": {},
   "outputs": [],
   "source": []
  },
  {
   "cell_type": "code",
   "execution_count": null,
   "id": "045fdeff-d387-4b7b-a71f-1186b71a73d6",
   "metadata": {},
   "outputs": [],
   "source": []
  },
  {
   "cell_type": "code",
   "execution_count": null,
   "id": "4158cca3-4812-41ce-8e16-526759a69c13",
   "metadata": {},
   "outputs": [],
   "source": []
  },
  {
   "cell_type": "code",
   "execution_count": null,
   "id": "41b4074a-0ccf-4a6c-85bd-e6b1037c3176",
   "metadata": {},
   "outputs": [],
   "source": []
  }
 ],
 "metadata": {
  "kernelspec": {
   "display_name": "Python 3",
   "language": "python",
   "name": "python3"
  },
  "language_info": {
   "codemirror_mode": {
    "name": "ipython",
    "version": 3
   },
   "file_extension": ".py",
   "mimetype": "text/x-python",
   "name": "python",
   "nbconvert_exporter": "python",
   "pygments_lexer": "ipython3",
   "version": "3.8.0"
  }
 },
 "nbformat": 4,
 "nbformat_minor": 5
}
