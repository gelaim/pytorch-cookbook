{
 "cells": [
  {
   "cell_type": "markdown",
   "id": "48d353f7-3eef-4940-b540-7e3c828262ef",
   "metadata": {},
   "source": [
    "# Pytorch Tensors\n",
    "\n",
    "A tensor is a data structure, a n-dimensional matrix of only one data type. \n",
    "For example: 32-bit floating point, 32-bit complex, 32-bit integer (signed), Boolean...\n",
    "A Tensor doesn't know anything about neural networks, it is used to encode inputs, outputs and parameters of a model.\n",
    "\n",
    "### References\n",
    "[links](https://pytorch.org/docs/stable/tensors.html)"
   ]
  },
  {
   "cell_type": "markdown",
   "id": "b2296066-42c5-407a-a75a-2050a233f438",
   "metadata": {},
   "source": [
    "### Tensors vs numpy arrays vs lists (??)\n",
    "\n",
    "Warning: Isn't a smart idea using lists in ML!\n",
    "Numpy may not be the smartest idea for ML, it is designed for fast computations. \n",
    "It can be used for ML when combined with a ML package.\n",
    "\n",
    "One of the main differences between a numpy array and a Pytorch tensor is that a pytorch is specifically tailored for GPU.\n"
   ]
  },
  {
   "cell_type": "code",
   "execution_count": 1,
   "id": "36df4a61-258f-431a-be35-82ea38313973",
   "metadata": {},
   "outputs": [
    {
     "name": "stdout",
     "output_type": "stream",
     "text": [
      "tensor([[0., 0., 0., 0.]])\n",
      "[0. 0. 0. 0.]\n",
      "[0.0, 0.0, 0.0, 0.0]\n"
     ]
    }
   ],
   "source": [
    "import torch\n",
    "import numpy as np\n",
    "\n",
    "x = torch.zeros(1,4)\n",
    "y = np.zeros(4)\n",
    "z = [0.]*4\n",
    "\n",
    "print(x)\n",
    "print(y)\n",
    "print(z)"
   ]
  },
  {
   "cell_type": "code",
   "execution_count": 2,
   "id": "c2affe73-b574-4826-a60d-6e0336ec794f",
   "metadata": {},
   "outputs": [
    {
     "name": "stdout",
     "output_type": "stream",
     "text": [
      "Size of the tensor is 72 bytes\n",
      "Size of the numpy array is 144 bytes\n",
      "Size of the list is 88 bytes\n"
     ]
    }
   ],
   "source": [
    "from sys import getsizeof\n",
    "\n",
    "\n",
    "print(f'Size of the tensor is {getsizeof(x)} bytes')\n",
    "print(f'Size of the numpy array is {getsizeof(y)} bytes')\n",
    "print(f'Size of the list is {getsizeof(z)} bytes')\n"
   ]
  },
  {
   "cell_type": "markdown",
   "id": "4a2a8217-a8b9-424b-9d29-b3dcb1bd4b53",
   "metadata": {},
   "source": [
    "Data from a numpy array can be loaded/converted to a torch tensor and vice versa"
   ]
  },
  {
   "cell_type": "code",
   "execution_count": 3,
   "id": "081b9aaf-54dd-48de-a10a-209e64b1bfa7",
   "metadata": {},
   "outputs": [
    {
     "data": {
      "text/plain": [
       "array([1, 2, 3, 4, 5, 6])"
      ]
     },
     "execution_count": 3,
     "metadata": {},
     "output_type": "execute_result"
    }
   ],
   "source": [
    "x = np.array([1,2,3,4,5,6])\n",
    "x"
   ]
  },
  {
   "cell_type": "code",
   "execution_count": 4,
   "id": "db4b7fcc-1aa9-4608-9af4-43d3395c066d",
   "metadata": {},
   "outputs": [
    {
     "data": {
      "text/plain": [
       "tensor([1, 2, 3, 4, 5, 6])"
      ]
     },
     "execution_count": 4,
     "metadata": {},
     "output_type": "execute_result"
    }
   ],
   "source": [
    "y = torch.from_numpy(x)\n",
    "y"
   ]
  },
  {
   "cell_type": "code",
   "execution_count": 5,
   "id": "1697e93a-6e61-4834-b002-b199670367fe",
   "metadata": {},
   "outputs": [
    {
     "data": {
      "text/plain": [
       "array([1, 2, 3, 4, 5, 6])"
      ]
     },
     "execution_count": 5,
     "metadata": {},
     "output_type": "execute_result"
    }
   ],
   "source": [
    "z = y.numpy()\n",
    "z"
   ]
  },
  {
   "cell_type": "markdown",
   "id": "4a1fa95b-3b46-4178-b68a-bddb213ec404",
   "metadata": {},
   "source": [
    "Also, we can load data from a list to a torch tensor"
   ]
  },
  {
   "cell_type": "code",
   "execution_count": 6,
   "id": "5f473f98-4959-4cd0-b065-469fb798a034",
   "metadata": {},
   "outputs": [
    {
     "data": {
      "text/plain": [
       "[1, 2, 3, 4, 5, 6]"
      ]
     },
     "execution_count": 6,
     "metadata": {},
     "output_type": "execute_result"
    }
   ],
   "source": [
    "t = [1,2,3,4,5,6]\n",
    "t"
   ]
  },
  {
   "cell_type": "code",
   "execution_count": 7,
   "id": "9a97a6b2-f292-4e9b-a053-50571d5b2173",
   "metadata": {},
   "outputs": [
    {
     "data": {
      "text/plain": [
       "tensor([1, 2, 3, 4, 5, 6])"
      ]
     },
     "execution_count": 7,
     "metadata": {},
     "output_type": "execute_result"
    }
   ],
   "source": [
    "x = torch.tensor(t)\n",
    "x"
   ]
  },
  {
   "cell_type": "markdown",
   "id": "ebc08543-44f5-429c-b609-9a69363c53de",
   "metadata": {},
   "source": [
    "All tensors presented above are 1-dimensional, it is usualy called a vector.\n",
    "A 2-dimensional tensor is sometimes referred as a matrix.\n",
    "\n",
    "Sometimes is important to create a n-dimentional tensor with rand values.\n",
    "And using torch this is really easy!"
   ]
  },
  {
   "cell_type": "code",
   "execution_count": 8,
   "id": "f2d69508-e44f-4008-8cad-e80d61472dcb",
   "metadata": {},
   "outputs": [
    {
     "name": "stdout",
     "output_type": "stream",
     "text": [
      "x tensor([[0.3866, 0.8059],\n",
      "        [0.7353, 0.0772]])\n",
      "y tensor([[0.0678, 0.9430],\n",
      "        [0.3350, 0.7960]])\n"
     ]
    }
   ],
   "source": [
    "\n",
    "x = torch.rand(2,2)\n",
    "\n",
    "shape = (2,2)\n",
    "y = torch.rand(shape)\n",
    "print('x', x)\n",
    "print('y', y)"
   ]
  },
  {
   "cell_type": "markdown",
   "id": "65852040-8801-4711-aaba-b21cd6f32bc0",
   "metadata": {},
   "source": [
    "If we execute the code above again, we will have different tensor's values.\n",
    "In this sense, is important to set a seed to be able to reproduce the code.\n"
   ]
  },
  {
   "cell_type": "code",
   "execution_count": 9,
   "id": "fe2a7253-45fc-4f12-9040-d124b55e6e31",
   "metadata": {},
   "outputs": [
    {
     "name": "stdout",
     "output_type": "stream",
     "text": [
      "\n",
      "set seed\n",
      "\n",
      "x tensor([[0.7576, 0.2793],\n",
      "        [0.4031, 0.7347]])\n",
      "y tensor([[0.0293, 0.7999],\n",
      "        [0.3971, 0.7544]])\n",
      "\n",
      "set seed again\n",
      "\n",
      "x tensor([[0.7576, 0.2793],\n",
      "        [0.4031, 0.7347]])\n",
      "y tensor([[0.0293, 0.7999],\n",
      "        [0.3971, 0.7544]])\n"
     ]
    }
   ],
   "source": [
    "print('\\nset seed\\n')\n",
    "\n",
    "torch.manual_seed(1)\n",
    "\n",
    "x = torch.rand(2,2)\n",
    "shape = (2,2)\n",
    "y = torch.rand(shape)\n",
    "print('x', x)\n",
    "print('y', y)\n",
    "\n",
    "print('\\nset seed again\\n')\n",
    "torch.manual_seed(1)\n",
    "\n",
    "x = torch.rand(2,2)\n",
    "shape = (2,2)\n",
    "y = torch.rand(shape)\n",
    "print('x', x)\n",
    "print('y', y)"
   ]
  },
  {
   "cell_type": "markdown",
   "id": "81ce3208-63b4-4aa6-9b86-2f36dbd7dc4b",
   "metadata": {},
   "source": [
    "## Math and Tensors\n",
    "\n",
    "Manipulating tensors is an usual task when working with Pytorch.\n",
    "There are over 100 operations described in the [documentation](https://pytorch.org/docs/stable/torch.html).\n",
    "\n"
   ]
  },
  {
   "cell_type": "markdown",
   "id": "dcf4487f-ce94-4762-a71e-f831f692be30",
   "metadata": {},
   "source": [
    "For example, we can create two 1D tensor using 'arange', and apply operations such as multiply, sum..."
   ]
  },
  {
   "cell_type": "code",
   "execution_count": 10,
   "id": "5c0f844c-b186-40c5-a54e-ab654d77dec1",
   "metadata": {},
   "outputs": [
    {
     "data": {
      "text/plain": [
       "tensor([0, 1, 2])"
      ]
     },
     "execution_count": 10,
     "metadata": {},
     "output_type": "execute_result"
    }
   ],
   "source": [
    "x = torch.arange(0,3)\n",
    "x"
   ]
  },
  {
   "cell_type": "code",
   "execution_count": 11,
   "id": "b60ab08c-8d2a-45af-a498-7b28dc233061",
   "metadata": {},
   "outputs": [
    {
     "data": {
      "text/plain": [
       "tensor([1, 2, 3])"
      ]
     },
     "execution_count": 11,
     "metadata": {},
     "output_type": "execute_result"
    }
   ],
   "source": [
    "y = torch.arange(1,4)\n",
    "y"
   ]
  },
  {
   "cell_type": "code",
   "execution_count": 12,
   "id": "2810135e-3233-4219-8b5b-0d7df79cd841",
   "metadata": {},
   "outputs": [
    {
     "data": {
      "text/plain": [
       "tensor([0, 2, 6])"
      ]
     },
     "execution_count": 12,
     "metadata": {},
     "output_type": "execute_result"
    }
   ],
   "source": [
    "x*y"
   ]
  },
  {
   "cell_type": "code",
   "execution_count": 13,
   "id": "b563deb6-624d-4503-b0fd-2ff6b99fdb00",
   "metadata": {},
   "outputs": [
    {
     "data": {
      "text/plain": [
       "tensor([1, 3, 5])"
      ]
     },
     "execution_count": 13,
     "metadata": {},
     "output_type": "execute_result"
    }
   ],
   "source": [
    "x+y"
   ]
  },
  {
   "cell_type": "code",
   "execution_count": 14,
   "id": "80d6107c-33a7-4d2f-9495-fe8d795e401e",
   "metadata": {},
   "outputs": [
    {
     "data": {
      "text/plain": [
       "tensor([0.0000, 0.5000, 0.6667])"
      ]
     },
     "execution_count": 14,
     "metadata": {},
     "output_type": "execute_result"
    }
   ],
   "source": [
    "z = x/y\n",
    "z"
   ]
  },
  {
   "cell_type": "markdown",
   "id": "11e398e5-4a72-4a1c-a351-683444277017",
   "metadata": {},
   "source": [
    "If the tensor is of floats or complex dtypes, we can use functions such as std, abs, sin, bitwise operations"
   ]
  },
  {
   "cell_type": "code",
   "execution_count": 15,
   "id": "0e58bd02-5164-4b1d-b7b7-b1ca972d82ba",
   "metadata": {},
   "outputs": [
    {
     "data": {
      "text/plain": [
       "tensor(0.3469)"
      ]
     },
     "execution_count": 15,
     "metadata": {},
     "output_type": "execute_result"
    }
   ],
   "source": [
    "torch.std(z)"
   ]
  },
  {
   "cell_type": "code",
   "execution_count": 22,
   "id": "dbb93f29-27b4-4fa6-9d63-850f8d49c82f",
   "metadata": {},
   "outputs": [
    {
     "name": "stdout",
     "output_type": "stream",
     "text": [
      "x tensor([[1., 1.],\n",
      "        [1., 1.]])\n",
      "y tensor([[1., 1.],\n",
      "        [1., 1.]])\n",
      "z tensor([[2., 2.],\n",
      "        [2., 2.]])\n",
      "z**2 tensor([[4., 4.],\n",
      "        [4., 4.]])\n"
     ]
    }
   ],
   "source": [
    "x = torch.ones(2,2)\n",
    "print('x',x)\n",
    "y = torch.ones(2,2)\n",
    "print('y',y)\n",
    "z = x+y\n",
    "print('z',z)\n",
    "print('z**2',z**2)"
   ]
  },
  {
   "cell_type": "code",
   "execution_count": 30,
   "id": "a7f0cbda-2e4f-46ca-8b22-3fa6aa8921e9",
   "metadata": {},
   "outputs": [
    {
     "name": "stdout",
     "output_type": "stream",
     "text": [
      "Normal  tensor([ 1., -2.,  3., -4.,  5., -6.])\n",
      "Abs  tensor([1., 2., 3., 4., 5., 6.])\n",
      "Normal  tensor([ 1.9000, -2.1000,  3.8000, -4.2000,  5.7000, -6.3000])\n",
      "Ceil  tensor([ 2., -2.,  4., -4.,  6., -6.])\n"
     ]
    }
   ],
   "source": [
    "x = torch.tensor([1.,-2.,3.,-4.,5.,-6.])\n",
    "print('Normal ',x)\n",
    "x = torch.abs(x)\n",
    "print('Abs ', x)\n",
    "x = torch.tensor([1.9,-2.1,3.8,-4.2,5.7,-6.3])\n",
    "print('Normal ',x)\n",
    "x = torch.ceil(x)\n",
    "print('Ceil ', x)\n"
   ]
  },
  {
   "cell_type": "code",
   "execution_count": 34,
   "id": "aebf21ec-4155-4202-94b5-35bedaddee37",
   "metadata": {},
   "outputs": [
    {
     "name": "stdout",
     "output_type": "stream",
     "text": [
      "x tensor([0.0000, 0.5236, 1.5708])\n",
      "sin tensor([0.0000, 0.5000, 1.0000])\n"
     ]
    }
   ],
   "source": [
    "import math\n",
    "\n",
    "x = torch.tensor([0, math.pi / 6,  math.pi / 2])\n",
    "print('x', x)\n",
    "y = torch.sin(x)\n",
    "print('sin', y)"
   ]
  },
  {
   "cell_type": "markdown",
   "id": "4506d59f-10f4-441b-9450-058ddebb86c1",
   "metadata": {},
   "source": [
    "We can also apply some lists functions\n"
   ]
  },
  {
   "cell_type": "code",
   "execution_count": null,
   "id": "c61d02f5-8886-4dbd-9cbe-0b5a34d9598f",
   "metadata": {},
   "outputs": [],
   "source": [
    "x = torch.ones(3,3)\n",
    "x"
   ]
  },
  {
   "cell_type": "code",
   "execution_count": null,
   "id": "60a13b45-218c-49bc-a25d-17cfbca928a7",
   "metadata": {},
   "outputs": [],
   "source": [
    "x[0,:]=0\n",
    "x"
   ]
  },
  {
   "cell_type": "code",
   "execution_count": null,
   "id": "00335f9b-0bb4-4684-9490-660279731a03",
   "metadata": {},
   "outputs": [],
   "source": [
    "x[:,2]=0\n",
    "x"
   ]
  },
  {
   "cell_type": "code",
   "execution_count": null,
   "id": "e30e226f-79f4-49c3-a449-6c0bcbee06d8",
   "metadata": {},
   "outputs": [],
   "source": []
  },
  {
   "cell_type": "markdown",
   "id": "89678e01-504a-44b6-ba54-e13ed7957fc9",
   "metadata": {},
   "source": [
    "As we mentioned in the beginning of the chapter, we can run a tensor either on CPU or GPU. A quite handy method for choosing GPU over CPU is"
   ]
  },
  {
   "cell_type": "code",
   "execution_count": null,
   "id": "c28d976c-4993-4731-bb80-372d8b0dfd5a",
   "metadata": {},
   "outputs": [],
   "source": [
    "device = torch.device('cuda' if torch.cuda.is_available() else 'cpu')\n",
    "device"
   ]
  },
  {
   "cell_type": "markdown",
   "id": "bead5881-1cbf-4a04-ac6c-a0f068d3cb11",
   "metadata": {},
   "source": []
  },
  {
   "cell_type": "code",
   "execution_count": null,
   "id": "fb2c4755-0729-4d78-aa4e-52b480474f48",
   "metadata": {},
   "outputs": [],
   "source": []
  },
  {
   "cell_type": "code",
   "execution_count": null,
   "id": "aa4984a2-1b54-4da0-b416-30169ec894d6",
   "metadata": {},
   "outputs": [],
   "source": []
  },
  {
   "cell_type": "code",
   "execution_count": 24,
   "id": "e9bf3870-b158-4578-bc89-98a7229e6c2f",
   "metadata": {},
   "outputs": [
    {
     "data": {
      "text/plain": [
       "tensor([[ 0.1449, -0.0040,  0.8742,  0.3112],\n",
       "        [-0.3724, -0.6040, -0.1676, -0.4313]])"
      ]
     },
     "execution_count": 24,
     "metadata": {},
     "output_type": "execute_result"
    }
   ],
   "source": []
  },
  {
   "cell_type": "code",
   "execution_count": 25,
   "id": "045fdeff-d387-4b7b-a71f-1186b71a73d6",
   "metadata": {},
   "outputs": [
    {
     "name": "stdout",
     "output_type": "stream",
     "text": [
      "tensor([[0.1449, 0.0040, 0.8742, 0.3112],\n",
      "        [0.3724, 0.6040, 0.1676, 0.4313]])\n"
     ]
    }
   ],
   "source": []
  },
  {
   "cell_type": "code",
   "execution_count": 26,
   "id": "4158cca3-4812-41ce-8e16-526759a69c13",
   "metadata": {},
   "outputs": [
    {
     "name": "stdout",
     "output_type": "stream",
     "text": [
      "tensor([[1., -0., 1., 1.],\n",
      "        [-0., -0., -0., -0.]])\n"
     ]
    }
   ],
   "source": []
  },
  {
   "cell_type": "code",
   "execution_count": null,
   "id": "41b4074a-0ccf-4a6c-85bd-e6b1037c3176",
   "metadata": {},
   "outputs": [],
   "source": []
  }
 ],
 "metadata": {
  "kernelspec": {
   "display_name": "Python 3",
   "language": "python",
   "name": "python3"
  },
  "language_info": {
   "codemirror_mode": {
    "name": "ipython",
    "version": 3
   },
   "file_extension": ".py",
   "mimetype": "text/x-python",
   "name": "python",
   "nbconvert_exporter": "python",
   "pygments_lexer": "ipython3",
   "version": "3.8.0"
  }
 },
 "nbformat": 4,
 "nbformat_minor": 5
}
