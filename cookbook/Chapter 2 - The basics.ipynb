{
 "cells": [
  {
   "cell_type": "markdown",
   "id": "48d353f7-3eef-4940-b540-7e3c828262ef",
   "metadata": {},
   "source": [
    "# Pytorch Tensors\n",
    "\n",
    "A tensor is a n-dimensional matrix of only one data type. \n",
    "For example: 32-bit floating point, 32-bit complex, 32-bit integer (signed), Boolean...\n",
    "A Tensor doesn't know anything about neural networks.\n",
    "\n",
    "\n",
    "### References\n",
    "[links](https://pytorch.org/docs/stable/tensors.html)"
   ]
  },
  {
   "cell_type": "markdown",
   "id": "b2296066-42c5-407a-a75a-2050a233f438",
   "metadata": {},
   "source": [
    "### Tensors vs numpy arrays vs lists (??)\n",
    "\n",
    "Warning: Isn't a smart idea using lists in ML!\n",
    "Numpy may not be the smartest idea for ML, it is designed for fast computations. \n",
    "It can be used for ML when combined with a ML package.\n",
    "\n",
    "One of the main differences between a numpy array and a Pytorch tensor is that a pytorch is specifically tailored for GPU."
   ]
  },
  {
   "cell_type": "code",
   "execution_count": 1,
   "id": "36df4a61-258f-431a-be35-82ea38313973",
   "metadata": {},
   "outputs": [
    {
     "name": "stdout",
     "output_type": "stream",
     "text": [
      "tensor([[0., 0., 0., 0.]])\n",
      "[0. 0. 0. 0.]\n",
      "[0.0, 0.0, 0.0, 0.0]\n"
     ]
    }
   ],
   "source": [
    "import torch\n",
    "import numpy as np\n",
    "\n",
    "x = torch.zeros(1,4)\n",
    "y = np.zeros(4)\n",
    "z = [0.]*4\n",
    "\n",
    "print(x)\n",
    "print(y)\n",
    "print(z)"
   ]
  },
  {
   "cell_type": "code",
   "execution_count": 2,
   "id": "c2affe73-b574-4826-a60d-6e0336ec794f",
   "metadata": {},
   "outputs": [
    {
     "name": "stdout",
     "output_type": "stream",
     "text": [
      "Size of the tensor is 72 bytes\n",
      "Size of the numpy array is 144 bytes\n",
      "Size of the list is 88 bytes\n"
     ]
    }
   ],
   "source": [
    "from sys import getsizeof\n",
    "\n",
    "\n",
    "print(f'Size of the tensor is {getsizeof(x)} bytes')\n",
    "print(f'Size of the numpy array is {getsizeof(y)} bytes')\n",
    "print(f'Size of the list is {getsizeof(z)} bytes')\n"
   ]
  },
  {
   "cell_type": "markdown",
   "id": "4a2a8217-a8b9-424b-9d29-b3dcb1bd4b53",
   "metadata": {},
   "source": [
    "Data from a numpy array can be loaded/converted to a torch tensor and vice versa"
   ]
  },
  {
   "cell_type": "code",
   "execution_count": 3,
   "id": "081b9aaf-54dd-48de-a10a-209e64b1bfa7",
   "metadata": {},
   "outputs": [
    {
     "data": {
      "text/plain": [
       "array([1, 2, 3, 4, 5, 6])"
      ]
     },
     "execution_count": 3,
     "metadata": {},
     "output_type": "execute_result"
    }
   ],
   "source": [
    "x = np.array([1,2,3,4,5,6])\n",
    "x"
   ]
  },
  {
   "cell_type": "code",
   "execution_count": 4,
   "id": "db4b7fcc-1aa9-4608-9af4-43d3395c066d",
   "metadata": {},
   "outputs": [
    {
     "data": {
      "text/plain": [
       "tensor([1, 2, 3, 4, 5, 6])"
      ]
     },
     "execution_count": 4,
     "metadata": {},
     "output_type": "execute_result"
    }
   ],
   "source": [
    "y = torch.from_numpy(x)\n",
    "y"
   ]
  },
  {
   "cell_type": "code",
   "execution_count": 5,
   "id": "1697e93a-6e61-4834-b002-b199670367fe",
   "metadata": {},
   "outputs": [
    {
     "data": {
      "text/plain": [
       "array([1, 2, 3, 4, 5, 6])"
      ]
     },
     "execution_count": 5,
     "metadata": {},
     "output_type": "execute_result"
    }
   ],
   "source": [
    "z = y.numpy()\n",
    "z"
   ]
  },
  {
   "cell_type": "markdown",
   "id": "4a1fa95b-3b46-4178-b68a-bddb213ec404",
   "metadata": {},
   "source": [
    "Also, we can load data from a list to a torch tensor"
   ]
  },
  {
   "cell_type": "code",
   "execution_count": 6,
   "id": "5f473f98-4959-4cd0-b065-469fb798a034",
   "metadata": {},
   "outputs": [
    {
     "data": {
      "text/plain": [
       "[1, 2, 3, 4, 5, 6]"
      ]
     },
     "execution_count": 6,
     "metadata": {},
     "output_type": "execute_result"
    }
   ],
   "source": [
    "t = [1,2,3,4,5,6]\n",
    "t"
   ]
  },
  {
   "cell_type": "code",
   "execution_count": 7,
   "id": "9a97a6b2-f292-4e9b-a053-50571d5b2173",
   "metadata": {},
   "outputs": [
    {
     "data": {
      "text/plain": [
       "tensor([1, 2, 3, 4, 5, 6])"
      ]
     },
     "execution_count": 7,
     "metadata": {},
     "output_type": "execute_result"
    }
   ],
   "source": [
    "x = torch.tensor(t)\n",
    "x"
   ]
  },
  {
   "cell_type": "markdown",
   "id": "89678e01-504a-44b6-ba54-e13ed7957fc9",
   "metadata": {},
   "source": [
    "As we mentioned before, we can run a tensor either on CPU or GPU. A quite handy method for choosing GPU over CPU is"
   ]
  },
  {
   "cell_type": "code",
   "execution_count": 8,
   "id": "c28d976c-4993-4731-bb80-372d8b0dfd5a",
   "metadata": {},
   "outputs": [
    {
     "data": {
      "text/plain": [
       "device(type='cuda')"
      ]
     },
     "execution_count": 8,
     "metadata": {},
     "output_type": "execute_result"
    }
   ],
   "source": [
    "device = torch.device('cuda' if torch.cuda.is_available() else 'cpu')\n",
    "device"
   ]
  },
  {
   "cell_type": "markdown",
   "id": "bead5881-1cbf-4a04-ac6c-a0f068d3cb11",
   "metadata": {},
   "source": [
    "We can also hardcode an option"
   ]
  },
  {
   "cell_type": "code",
   "execution_count": 9,
   "id": "fb2c4755-0729-4d78-aa4e-52b480474f48",
   "metadata": {},
   "outputs": [
    {
     "data": {
      "text/plain": [
       "device(type='cpu')"
      ]
     },
     "execution_count": 9,
     "metadata": {},
     "output_type": "execute_result"
    }
   ],
   "source": [
    "device = torch.device('cpu')\n",
    "device"
   ]
  },
  {
   "cell_type": "code",
   "execution_count": null,
   "id": "aa4984a2-1b54-4da0-b416-30169ec894d6",
   "metadata": {},
   "outputs": [],
   "source": []
  }
 ],
 "metadata": {
  "kernelspec": {
   "display_name": "Python 3",
   "language": "python",
   "name": "python3"
  },
  "language_info": {
   "codemirror_mode": {
    "name": "ipython",
    "version": 3
   },
   "file_extension": ".py",
   "mimetype": "text/x-python",
   "name": "python",
   "nbconvert_exporter": "python",
   "pygments_lexer": "ipython3",
   "version": "3.8.0"
  }
 },
 "nbformat": 4,
 "nbformat_minor": 5
}
