{
 "cells": [
  {
   "cell_type": "markdown",
   "id": "893056e4-34aa-4a52-b139-594584087cc0",
   "metadata": {},
   "source": [
    "# Getting started with Jupyter Notebook\n",
    "\n",
    "A Jupyter notebook is an interactive environment (browser-based graphical interface) represented as a Json document combining code, text and images.\n",
    "\n",
    "\n",
    "### References\n",
    "[links](https://ipython-books.github.io/chapter-3-mastering-the-jupyter-notebook/)"
   ]
  },
  {
   "cell_type": "code",
   "execution_count": 1,
   "id": "9cd0cae6-cd4b-40aa-91f6-2e36461782c2",
   "metadata": {},
   "outputs": [
    {
     "name": "stdout",
     "output_type": "stream",
     "text": [
      "Hello world!\n"
     ]
    }
   ],
   "source": [
    "#Classical Hello world Example\n",
    "print(\"Hello world!\")\n"
   ]
  },
  {
   "cell_type": "code",
   "execution_count": 2,
   "id": "8e270be4-8e48-4a5f-987b-3c6d635b35fe",
   "metadata": {},
   "outputs": [
    {
     "data": {
      "text/plain": [
       "'Hello world!'"
      ]
     },
     "execution_count": 2,
     "metadata": {},
     "output_type": "execute_result"
    }
   ],
   "source": [
    "#The output area will show the text representation of the string \"Hello world!\"\n",
    "\"Hello world!\""
   ]
  },
  {
   "cell_type": "code",
   "execution_count": 3,
   "id": "921d4f94-fda9-44f5-92a9-07432533c267",
   "metadata": {},
   "outputs": [],
   "source": [
    "#The attribuition in the last line don't presents anything in the output area\n",
    "A = [1,2,3,4,5]"
   ]
  },
  {
   "cell_type": "code",
   "execution_count": 4,
   "id": "61647a2a-9d95-47c6-93a5-06c9c7683ab0",
   "metadata": {},
   "outputs": [
    {
     "data": {
      "text/plain": [
       "[1, 2, 3, 4, 5]"
      ]
     },
     "execution_count": 4,
     "metadata": {},
     "output_type": "execute_result"
    }
   ],
   "source": [
    "#But the list \"A\" is accessible in the next cell and if we do not put an attribuition, it will print the list in the output area\n",
    "A"
   ]
  },
  {
   "cell_type": "markdown",
   "id": "3f50d58d-6aaa-4e5c-a0db-59791fd4c913",
   "metadata": {},
   "source": [
    "The auto-completion and exploration tool is also available in a jupyter notebook.\n",
    "We can access objects attributes and methods using the <tab> command.\n",
    "For example, if we want to see all the available attributes of the list A, we can type \"A\" + \".\" and then press tab. Try it!\n",
    "\n",
    "![tab](img/tab.png)\n"
   ]
  },
  {
   "cell_type": "code",
   "execution_count": 5,
   "id": "ca476d72-fa2a-4e46-8c1c-447dd37c6c43",
   "metadata": {},
   "outputs": [],
   "source": [
    "#TODO: uncomment line below\n",
    "#A."
   ]
  },
  {
   "cell_type": "code",
   "execution_count": 6,
   "id": "47fe23bc-0304-440d-9949-7c233ef9a254",
   "metadata": {},
   "outputs": [
    {
     "name": "stdout",
     "output_type": "stream",
     "text": [
      "/media/thiago/75A7-0BDE/projetos/pytorch-cookbook/cookbook\n"
     ]
    }
   ],
   "source": [
    "#We can also execute shell code!\n",
    "!pwd"
   ]
  },
  {
   "cell_type": "markdown",
   "id": "8be0904f-a8c6-496f-8dfb-950431bf094d",
   "metadata": {},
   "source": [
    "### Magic functions\n",
    "Magic functions are shortcuts to actions. A magic function starts with %"
   ]
  },
  {
   "cell_type": "code",
   "execution_count": 7,
   "id": "25cd97ae-6d43-4710-820e-2ee099d67078",
   "metadata": {},
   "outputs": [
    {
     "data": {
      "application/json": {
       "cell": {
        "!": "OSMagics",
        "HTML": "Other",
        "SVG": "Other",
        "bash": "Other",
        "capture": "ExecutionMagics",
        "debug": "ExecutionMagics",
        "file": "Other",
        "html": "DisplayMagics",
        "javascript": "DisplayMagics",
        "js": "DisplayMagics",
        "latex": "DisplayMagics",
        "markdown": "DisplayMagics",
        "perl": "Other",
        "prun": "ExecutionMagics",
        "pypy": "Other",
        "python": "Other",
        "python2": "Other",
        "python3": "Other",
        "ruby": "Other",
        "script": "ScriptMagics",
        "sh": "Other",
        "svg": "DisplayMagics",
        "sx": "OSMagics",
        "system": "OSMagics",
        "time": "ExecutionMagics",
        "timeit": "ExecutionMagics",
        "writefile": "OSMagics"
       },
       "line": {
        "alias": "OSMagics",
        "alias_magic": "BasicMagics",
        "autoawait": "AsyncMagics",
        "autocall": "AutoMagics",
        "automagic": "AutoMagics",
        "autosave": "KernelMagics",
        "bookmark": "OSMagics",
        "cat": "Other",
        "cd": "OSMagics",
        "clear": "KernelMagics",
        "colors": "BasicMagics",
        "conda": "PackagingMagics",
        "config": "ConfigMagics",
        "connect_info": "KernelMagics",
        "cp": "Other",
        "debug": "ExecutionMagics",
        "dhist": "OSMagics",
        "dirs": "OSMagics",
        "doctest_mode": "BasicMagics",
        "ed": "Other",
        "edit": "KernelMagics",
        "env": "OSMagics",
        "gui": "BasicMagics",
        "hist": "Other",
        "history": "HistoryMagics",
        "killbgscripts": "ScriptMagics",
        "ldir": "Other",
        "less": "KernelMagics",
        "lf": "Other",
        "lk": "Other",
        "ll": "Other",
        "load": "CodeMagics",
        "load_ext": "ExtensionMagics",
        "loadpy": "CodeMagics",
        "logoff": "LoggingMagics",
        "logon": "LoggingMagics",
        "logstart": "LoggingMagics",
        "logstate": "LoggingMagics",
        "logstop": "LoggingMagics",
        "ls": "Other",
        "lsmagic": "BasicMagics",
        "lx": "Other",
        "macro": "ExecutionMagics",
        "magic": "BasicMagics",
        "man": "KernelMagics",
        "matplotlib": "PylabMagics",
        "mkdir": "Other",
        "more": "KernelMagics",
        "mv": "Other",
        "notebook": "BasicMagics",
        "page": "BasicMagics",
        "pastebin": "CodeMagics",
        "pdb": "ExecutionMagics",
        "pdef": "NamespaceMagics",
        "pdoc": "NamespaceMagics",
        "pfile": "NamespaceMagics",
        "pinfo": "NamespaceMagics",
        "pinfo2": "NamespaceMagics",
        "pip": "PackagingMagics",
        "popd": "OSMagics",
        "pprint": "BasicMagics",
        "precision": "BasicMagics",
        "prun": "ExecutionMagics",
        "psearch": "NamespaceMagics",
        "psource": "NamespaceMagics",
        "pushd": "OSMagics",
        "pwd": "OSMagics",
        "pycat": "OSMagics",
        "pylab": "PylabMagics",
        "qtconsole": "KernelMagics",
        "quickref": "BasicMagics",
        "recall": "HistoryMagics",
        "rehashx": "OSMagics",
        "reload_ext": "ExtensionMagics",
        "rep": "Other",
        "rerun": "HistoryMagics",
        "reset": "NamespaceMagics",
        "reset_selective": "NamespaceMagics",
        "rm": "Other",
        "rmdir": "Other",
        "run": "ExecutionMagics",
        "save": "CodeMagics",
        "sc": "OSMagics",
        "set_env": "OSMagics",
        "store": "StoreMagics",
        "sx": "OSMagics",
        "system": "OSMagics",
        "tb": "ExecutionMagics",
        "time": "ExecutionMagics",
        "timeit": "ExecutionMagics",
        "unalias": "OSMagics",
        "unload_ext": "ExtensionMagics",
        "who": "NamespaceMagics",
        "who_ls": "NamespaceMagics",
        "whos": "NamespaceMagics",
        "xdel": "NamespaceMagics",
        "xmode": "BasicMagics"
       }
      },
      "text/plain": [
       "Available line magics:\n",
       "%alias  %alias_magic  %autoawait  %autocall  %automagic  %autosave  %bookmark  %cat  %cd  %clear  %colors  %conda  %config  %connect_info  %cp  %debug  %dhist  %dirs  %doctest_mode  %ed  %edit  %env  %gui  %hist  %history  %killbgscripts  %ldir  %less  %lf  %lk  %ll  %load  %load_ext  %loadpy  %logoff  %logon  %logstart  %logstate  %logstop  %ls  %lsmagic  %lx  %macro  %magic  %man  %matplotlib  %mkdir  %more  %mv  %notebook  %page  %pastebin  %pdb  %pdef  %pdoc  %pfile  %pinfo  %pinfo2  %pip  %popd  %pprint  %precision  %prun  %psearch  %psource  %pushd  %pwd  %pycat  %pylab  %qtconsole  %quickref  %recall  %rehashx  %reload_ext  %rep  %rerun  %reset  %reset_selective  %rm  %rmdir  %run  %save  %sc  %set_env  %store  %sx  %system  %tb  %time  %timeit  %unalias  %unload_ext  %who  %who_ls  %whos  %xdel  %xmode\n",
       "\n",
       "Available cell magics:\n",
       "%%!  %%HTML  %%SVG  %%bash  %%capture  %%debug  %%file  %%html  %%javascript  %%js  %%latex  %%markdown  %%perl  %%prun  %%pypy  %%python  %%python2  %%python3  %%ruby  %%script  %%sh  %%svg  %%sx  %%system  %%time  %%timeit  %%writefile\n",
       "\n",
       "Automagic is ON, % prefix IS NOT needed for line magics."
      ]
     },
     "execution_count": 7,
     "metadata": {},
     "output_type": "execute_result"
    }
   ],
   "source": [
    "# All available magic functions\n",
    "%lsmagic"
   ]
  },
  {
   "cell_type": "code",
   "execution_count": 8,
   "id": "192451d0-273e-4c00-a783-ef99b22ac6a0",
   "metadata": {},
   "outputs": [
    {
     "name": "stdout",
     "output_type": "stream",
     "text": [
      "CPU times: user 27.6 ms, sys: 7.93 ms, total: 35.5 ms\n",
      "Wall time: 35.1 ms\n",
      "1000000\n"
     ]
    }
   ],
   "source": [
    "# The time magic function\n",
    "n = 1000\n",
    "#Time magic function O(n²). \n",
    "%time a = [x+y for x in range(n) for y in range(n)]\n",
    "print(len(a))\n"
   ]
  },
  {
   "cell_type": "code",
   "execution_count": 9,
   "id": "7be91c1e-3ae0-4228-b8bf-8a921eb74e04",
   "metadata": {},
   "outputs": [
    {
     "name": "stdout",
     "output_type": "stream",
     "text": [
      "CPU times: user 34 µs, sys: 5 µs, total: 39 µs\n",
      "Wall time: 40.8 µs\n",
      "1000\n"
     ]
    }
   ],
   "source": [
    "#Time magic function O(n). \n",
    "%time b = [x+x for x in range(n)]\n",
    "print(len(b))"
   ]
  },
  {
   "cell_type": "markdown",
   "id": "2b155673-063a-49e5-9b6f-157dbe88764a",
   "metadata": {},
   "source": [
    "### System-specific functions"
   ]
  },
  {
   "cell_type": "code",
   "execution_count": 10,
   "id": "c79e1e5c-d69e-4e1e-ab3f-92e5870f940d",
   "metadata": {},
   "outputs": [
    {
     "name": "stdout",
     "output_type": "stream",
     "text": [
      "Size of variable a is 8697456 bytes\n",
      "Size of variable b is 9016 bytes\n"
     ]
    }
   ],
   "source": [
    "from sys import getsizeof\n",
    "#Sometimes is important to know the size of variables we are using.\n",
    "#Imagine you having to calculate the similarity of 123456789 sentences how much space will you need?\n",
    "print(f'Size of variable a is {getsizeof(a)} bytes')\n",
    "print(f'Size of variable b is {getsizeof(b)} bytes')\n"
   ]
  },
  {
   "cell_type": "markdown",
   "id": "74822c71-6afb-4545-995f-285d2cad09b1",
   "metadata": {},
   "source": [
    "## Python classes, methods, functions  \n",
    "There is no mistery in writing code. "
   ]
  },
  {
   "cell_type": "code",
   "execution_count": 11,
   "id": "e97d019c-bc06-47a9-b6b7-d29156e83abc",
   "metadata": {},
   "outputs": [
    {
     "name": "stdout",
     "output_type": "stream",
     "text": [
      "Vrum-vrum\n",
      "-------------------\n",
      "2 + 3 = 5\n"
     ]
    }
   ],
   "source": [
    "class Car:\n",
    "    #method\n",
    "    def sound(self):\n",
    "        #onomatopéia/onomatopoeia :-)\n",
    "        print(\"Vrum-vrum\")\n",
    "chevette = Car()\n",
    "chevette.sound()\n",
    "print('-------------------')\n",
    "def add(a, b):\n",
    "    print(f\"{a} + {b} = {a+b}\")\n",
    "add(2,3)\n"
   ]
  },
  {
   "cell_type": "markdown",
   "id": "4276ebd1-e750-4795-a021-f486c6dd005b",
   "metadata": {
    "tags": []
   },
   "source": [
    "## Jupyter Notebook keyboard shortcuts\n",
    "\n",
    "Keyboard shortcuts always save us lots of time. \n",
    "\n",
    "| Function | keyboard shortcut | Mode |\n",
    "| --- | --- | --- | \n",
    "| Run cell | Ctrl + enter or Shift + enter | Both|\n",
    "| Run cell and insert below | Alt + Ender | Both |\n",
    "| Save notebook | Ctrl + s | Both |\n",
    "| Insert cell above | A | command mode |\n",
    "| Insert cell below | B | command mode |\n",
    "| Delete selected cells | D D | command mode |\n",
    "| Select cell above | Up | command mode |\n",
    "| Select cell below | Down | command mode |\n",
    "| Select current cell and cells above| Shift + Up | command mode |\n",
    "| Select current cell and cells below| Shift + Down | command mode |\n",
    "| Undo cell deletion | Z | command mode |\n",
    "| Copy selected cells | C | command mode |\n",
    "| Cut selected cells | X | command mode |\n",
    "| Paste selected cells below | V | command mode |\n",
    "| Paste selected cells above | Shift + V | command mode |\n",
    "| Change cell to Code | Y | command mode |\n",
    "| Change cell to Markdown | M | command mode |\n",
    "| Code indent or completion | Tab | edit mode |\n",
    "| Code Tooltip | Shift + Tab | edit mode |\n",
    "| Dedent | Ctrl + [ | edit mode |\n",
    "| Indent | Ctrl + ] | edit mode |\n",
    "| Select all | A | edit mode |\n",
    "| Cell start | Ctrl + Home | edit mode |\n",
    "| Cell end | Ctrl + End | edit mode |\n",
    "\n"
   ]
  },
  {
   "cell_type": "code",
   "execution_count": null,
   "id": "081b9aaf-54dd-48de-a10a-209e64b1bfa7",
   "metadata": {},
   "outputs": [],
   "source": []
  }
 ],
 "metadata": {
  "kernelspec": {
   "display_name": "Python 3",
   "language": "python",
   "name": "python3"
  },
  "language_info": {
   "codemirror_mode": {
    "name": "ipython",
    "version": 3
   },
   "file_extension": ".py",
   "mimetype": "text/x-python",
   "name": "python",
   "nbconvert_exporter": "python",
   "pygments_lexer": "ipython3",
   "version": "3.8.0"
  }
 },
 "nbformat": 4,
 "nbformat_minor": 5
}
