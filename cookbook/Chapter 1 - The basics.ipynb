{
 "cells": [
  {
   "cell_type": "markdown",
   "id": "893056e4-34aa-4a52-b139-594584087cc0",
   "metadata": {},
   "source": [
    "# Getting started with Jupyter Notebook\n",
    "\n",
    "A Jupyter notebook is an interactive environment represented as a Json document combining code, text and images.\n",
    "\n",
    "\n",
    "### References\n",
    "[links](https://ipython-books.github.io/chapter-3-mastering-the-jupyter-notebook/)"
   ]
  },
  {
   "cell_type": "code",
   "execution_count": 1,
   "id": "9cd0cae6-cd4b-40aa-91f6-2e36461782c2",
   "metadata": {},
   "outputs": [
    {
     "name": "stdout",
     "output_type": "stream",
     "text": [
      "Hello world!\n"
     ]
    }
   ],
   "source": [
    "#Classical Hello world Example\n",
    "print(\"Hello world!\")"
   ]
  },
  {
   "cell_type": "code",
   "execution_count": 2,
   "id": "8e270be4-8e48-4a5f-987b-3c6d635b35fe",
   "metadata": {},
   "outputs": [
    {
     "data": {
      "text/plain": [
       "'Hello world!'"
      ]
     },
     "execution_count": 2,
     "metadata": {},
     "output_type": "execute_result"
    }
   ],
   "source": [
    "#The output area will show the text representation of the string \"Hello world!\"\n",
    "\"Hello world!\""
   ]
  },
  {
   "cell_type": "code",
   "execution_count": 3,
   "id": "921d4f94-fda9-44f5-92a9-07432533c267",
   "metadata": {},
   "outputs": [],
   "source": [
    "#The attribuition in the last line don't presents anything in the output area\n",
    "A = [1,2,3,4,5]"
   ]
  },
  {
   "cell_type": "code",
   "execution_count": 4,
   "id": "61647a2a-9d95-47c6-93a5-06c9c7683ab0",
   "metadata": {},
   "outputs": [
    {
     "data": {
      "text/plain": [
       "[1, 2, 3, 4, 5]"
      ]
     },
     "execution_count": 4,
     "metadata": {},
     "output_type": "execute_result"
    }
   ],
   "source": [
    "#But the list \"A\" is accessible in the next cell and if we do not put an attribuition, it will print the list in the output area\n",
    "A"
   ]
  },
  {
   "cell_type": "code",
   "execution_count": 5,
   "id": "47fe23bc-0304-440d-9949-7c233ef9a254",
   "metadata": {},
   "outputs": [
    {
     "name": "stdout",
     "output_type": "stream",
     "text": [
      "/media/thiago/75A7-0BDE/projetos/pytorch-cookbook/cookbook\n"
     ]
    }
   ],
   "source": [
    "#We can also execute shell code!\n",
    "!pwd"
   ]
  },
  {
   "cell_type": "markdown",
   "id": "8be0904f-a8c6-496f-8dfb-950431bf094d",
   "metadata": {},
   "source": [
    "### Magic functions\n",
    "Magic functions are shortcuts to actions. A magic function starts with %"
   ]
  },
  {
   "cell_type": "code",
   "execution_count": 6,
   "id": "25cd97ae-6d43-4710-820e-2ee099d67078",
   "metadata": {},
   "outputs": [
    {
     "data": {
      "application/json": {
       "cell": {
        "!": "OSMagics",
        "HTML": "Other",
        "SVG": "Other",
        "bash": "Other",
        "capture": "ExecutionMagics",
        "debug": "ExecutionMagics",
        "file": "Other",
        "html": "DisplayMagics",
        "javascript": "DisplayMagics",
        "js": "DisplayMagics",
        "latex": "DisplayMagics",
        "markdown": "DisplayMagics",
        "perl": "Other",
        "prun": "ExecutionMagics",
        "pypy": "Other",
        "python": "Other",
        "python2": "Other",
        "python3": "Other",
        "ruby": "Other",
        "script": "ScriptMagics",
        "sh": "Other",
        "svg": "DisplayMagics",
        "sx": "OSMagics",
        "system": "OSMagics",
        "time": "ExecutionMagics",
        "timeit": "ExecutionMagics",
        "writefile": "OSMagics"
       },
       "line": {
        "alias": "OSMagics",
        "alias_magic": "BasicMagics",
        "autoawait": "AsyncMagics",
        "autocall": "AutoMagics",
        "automagic": "AutoMagics",
        "autosave": "KernelMagics",
        "bookmark": "OSMagics",
        "cat": "Other",
        "cd": "OSMagics",
        "clear": "KernelMagics",
        "colors": "BasicMagics",
        "conda": "PackagingMagics",
        "config": "ConfigMagics",
        "connect_info": "KernelMagics",
        "cp": "Other",
        "debug": "ExecutionMagics",
        "dhist": "OSMagics",
        "dirs": "OSMagics",
        "doctest_mode": "BasicMagics",
        "ed": "Other",
        "edit": "KernelMagics",
        "env": "OSMagics",
        "gui": "BasicMagics",
        "hist": "Other",
        "history": "HistoryMagics",
        "killbgscripts": "ScriptMagics",
        "ldir": "Other",
        "less": "KernelMagics",
        "lf": "Other",
        "lk": "Other",
        "ll": "Other",
        "load": "CodeMagics",
        "load_ext": "ExtensionMagics",
        "loadpy": "CodeMagics",
        "logoff": "LoggingMagics",
        "logon": "LoggingMagics",
        "logstart": "LoggingMagics",
        "logstate": "LoggingMagics",
        "logstop": "LoggingMagics",
        "ls": "Other",
        "lsmagic": "BasicMagics",
        "lx": "Other",
        "macro": "ExecutionMagics",
        "magic": "BasicMagics",
        "man": "KernelMagics",
        "matplotlib": "PylabMagics",
        "mkdir": "Other",
        "more": "KernelMagics",
        "mv": "Other",
        "notebook": "BasicMagics",
        "page": "BasicMagics",
        "pastebin": "CodeMagics",
        "pdb": "ExecutionMagics",
        "pdef": "NamespaceMagics",
        "pdoc": "NamespaceMagics",
        "pfile": "NamespaceMagics",
        "pinfo": "NamespaceMagics",
        "pinfo2": "NamespaceMagics",
        "pip": "PackagingMagics",
        "popd": "OSMagics",
        "pprint": "BasicMagics",
        "precision": "BasicMagics",
        "prun": "ExecutionMagics",
        "psearch": "NamespaceMagics",
        "psource": "NamespaceMagics",
        "pushd": "OSMagics",
        "pwd": "OSMagics",
        "pycat": "OSMagics",
        "pylab": "PylabMagics",
        "qtconsole": "KernelMagics",
        "quickref": "BasicMagics",
        "recall": "HistoryMagics",
        "rehashx": "OSMagics",
        "reload_ext": "ExtensionMagics",
        "rep": "Other",
        "rerun": "HistoryMagics",
        "reset": "NamespaceMagics",
        "reset_selective": "NamespaceMagics",
        "rm": "Other",
        "rmdir": "Other",
        "run": "ExecutionMagics",
        "save": "CodeMagics",
        "sc": "OSMagics",
        "set_env": "OSMagics",
        "store": "StoreMagics",
        "sx": "OSMagics",
        "system": "OSMagics",
        "tb": "ExecutionMagics",
        "time": "ExecutionMagics",
        "timeit": "ExecutionMagics",
        "unalias": "OSMagics",
        "unload_ext": "ExtensionMagics",
        "who": "NamespaceMagics",
        "who_ls": "NamespaceMagics",
        "whos": "NamespaceMagics",
        "xdel": "NamespaceMagics",
        "xmode": "BasicMagics"
       }
      },
      "text/plain": [
       "Available line magics:\n",
       "%alias  %alias_magic  %autoawait  %autocall  %automagic  %autosave  %bookmark  %cat  %cd  %clear  %colors  %conda  %config  %connect_info  %cp  %debug  %dhist  %dirs  %doctest_mode  %ed  %edit  %env  %gui  %hist  %history  %killbgscripts  %ldir  %less  %lf  %lk  %ll  %load  %load_ext  %loadpy  %logoff  %logon  %logstart  %logstate  %logstop  %ls  %lsmagic  %lx  %macro  %magic  %man  %matplotlib  %mkdir  %more  %mv  %notebook  %page  %pastebin  %pdb  %pdef  %pdoc  %pfile  %pinfo  %pinfo2  %pip  %popd  %pprint  %precision  %prun  %psearch  %psource  %pushd  %pwd  %pycat  %pylab  %qtconsole  %quickref  %recall  %rehashx  %reload_ext  %rep  %rerun  %reset  %reset_selective  %rm  %rmdir  %run  %save  %sc  %set_env  %store  %sx  %system  %tb  %time  %timeit  %unalias  %unload_ext  %who  %who_ls  %whos  %xdel  %xmode\n",
       "\n",
       "Available cell magics:\n",
       "%%!  %%HTML  %%SVG  %%bash  %%capture  %%debug  %%file  %%html  %%javascript  %%js  %%latex  %%markdown  %%perl  %%prun  %%pypy  %%python  %%python2  %%python3  %%ruby  %%script  %%sh  %%svg  %%sx  %%system  %%time  %%timeit  %%writefile\n",
       "\n",
       "Automagic is ON, % prefix IS NOT needed for line magics."
      ]
     },
     "execution_count": 6,
     "metadata": {},
     "output_type": "execute_result"
    }
   ],
   "source": [
    "# All available magic functions\n",
    "%lsmagic"
   ]
  },
  {
   "cell_type": "code",
   "execution_count": 7,
   "id": "192451d0-273e-4c00-a783-ef99b22ac6a0",
   "metadata": {},
   "outputs": [
    {
     "name": "stdout",
     "output_type": "stream",
     "text": [
      "CPU times: user 36.3 ms, sys: 0 ns, total: 36.3 ms\n",
      "Wall time: 35.9 ms\n",
      "1000000\n"
     ]
    }
   ],
   "source": [
    "# The time magic function\n",
    "n = 1000\n",
    "#Time magic function O(n²). \n",
    "%time a = [x+y for x in range(n) for y in range(n)]\n",
    "print(len(a))\n"
   ]
  },
  {
   "cell_type": "code",
   "execution_count": 8,
   "id": "7be91c1e-3ae0-4228-b8bf-8a921eb74e04",
   "metadata": {},
   "outputs": [
    {
     "name": "stdout",
     "output_type": "stream",
     "text": [
      "CPU times: user 34 µs, sys: 4 µs, total: 38 µs\n",
      "Wall time: 40.5 µs\n",
      "1000\n"
     ]
    }
   ],
   "source": [
    "#Time magic function O(n). \n",
    "%time b = [x+x for x in range(n)]\n",
    "print(len(b))"
   ]
  },
  {
   "cell_type": "markdown",
   "id": "2b155673-063a-49e5-9b6f-157dbe88764a",
   "metadata": {},
   "source": [
    "### System-specific functions"
   ]
  },
  {
   "cell_type": "code",
   "execution_count": 9,
   "id": "c79e1e5c-d69e-4e1e-ab3f-92e5870f940d",
   "metadata": {},
   "outputs": [
    {
     "name": "stdout",
     "output_type": "stream",
     "text": [
      "Size of variable a is 8697456 bytes\n",
      "Size of variable b is 9016 bytes\n"
     ]
    }
   ],
   "source": [
    "from sys import getsizeof\n",
    "print(f'Size of variable a is {getsizeof(a)} bytes')\n",
    "print(f'Size of variable b is {getsizeof(b)} bytes')\n"
   ]
  },
  {
   "cell_type": "markdown",
   "id": "48d353f7-3eef-4940-b540-7e3c828262ef",
   "metadata": {},
   "source": [
    "# Pytorch Tensors\n",
    "A tensor is a n-dimensional matrix of only one data type. \n",
    "For example: 32-bit floating point, 32-bit complex, 32-bit integer (signed), Boolean...\n",
    "\n",
    "### References\n",
    "[links](https://pytorch.org/docs/stable/tensors.html)"
   ]
  },
  {
   "cell_type": "markdown",
   "id": "b2296066-42c5-407a-a75a-2050a233f438",
   "metadata": {},
   "source": [
    "### Tensors vs numpy arrays vs l\n"
   ]
  },
  {
   "cell_type": "code",
   "execution_count": 11,
   "id": "36df4a61-258f-431a-be35-82ea38313973",
   "metadata": {},
   "outputs": [
    {
     "name": "stdout",
     "output_type": "stream",
     "text": [
      "tensor([[0., 0., 0., 0.]])\n",
      "[0. 0. 0. 0.]\n",
      "[0.0, 0.0, 0.0, 0.0]\n"
     ]
    }
   ],
   "source": [
    "import torch\n",
    "import numpy as np\n",
    "\n",
    "x = torch.zeros(1,4)\n",
    "y = np.zeros(4)\n",
    "z = [0.]*4\n",
    "\n",
    "print(x)\n",
    "print(y)\n",
    "print(z)"
   ]
  },
  {
   "cell_type": "code",
   "execution_count": 14,
   "id": "c2affe73-b574-4826-a60d-6e0336ec794f",
   "metadata": {},
   "outputs": [
    {
     "name": "stdout",
     "output_type": "stream",
     "text": [
      "Size of the tensor is 72 bytes\n",
      "Size of the numpy array is 128 bytes\n",
      "Size of the list is 88 bytes\n"
     ]
    }
   ],
   "source": [
    "print(f'Size of the tensor is {getsizeof(x)} bytes')\n",
    "print(f'Size of the numpy array is {getsizeof(y)} bytes')\n",
    "print(f'Size of the list is {getsizeof(z)} bytes')\n"
   ]
  },
  {
   "cell_type": "code",
   "execution_count": null,
   "id": "4b647581-466d-4d30-b102-3531085a49e4",
   "metadata": {},
   "outputs": [],
   "source": []
  },
  {
   "cell_type": "code",
   "execution_count": null,
   "id": "081b9aaf-54dd-48de-a10a-209e64b1bfa7",
   "metadata": {},
   "outputs": [],
   "source": []
  }
 ],
 "metadata": {
  "kernelspec": {
   "display_name": "Python 3 (ipykernel)",
   "language": "python",
   "name": "python3"
  },
  "language_info": {
   "codemirror_mode": {
    "name": "ipython",
    "version": 3
   },
   "file_extension": ".py",
   "mimetype": "text/x-python",
   "name": "python",
   "nbconvert_exporter": "python",
   "pygments_lexer": "ipython3",
   "version": "3.10.0"
  }
 },
 "nbformat": 4,
 "nbformat_minor": 5
}
