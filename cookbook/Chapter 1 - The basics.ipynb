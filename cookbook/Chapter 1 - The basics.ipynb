{
 "cells": [
  {
   "cell_type": "markdown",
   "id": "893056e4-34aa-4a52-b139-594584087cc0",
   "metadata": {},
   "source": [
    "# Getting started with Jupyter Notebook\n",
    "\n",
    "A Jupyter notebook is an interactive environment represented as a Json document combining code, text and images.\n",
    "\n",
    "\n",
    "### References\n",
    "https://ipython-books.github.io/chapter-3-mastering-the-jupyter-notebook/"
   ]
  },
  {
   "cell_type": "code",
   "execution_count": 1,
   "id": "9cd0cae6-cd4b-40aa-91f6-2e36461782c2",
   "metadata": {},
   "outputs": [
    {
     "name": "stdout",
     "output_type": "stream",
     "text": [
      "Hello world!\n"
     ]
    }
   ],
   "source": [
    "#Classical Hello world Example\n",
    "print(\"Hello world!\")"
   ]
  },
  {
   "cell_type": "code",
   "execution_count": 2,
   "id": "dcb37ea3-747c-49cb-b1b5-03509d9acb84",
   "metadata": {},
   "outputs": [
    {
     "data": {
      "text/plain": [
       "'Hello world!'"
      ]
     },
     "execution_count": 2,
     "metadata": {},
     "output_type": "execute_result"
    }
   ],
   "source": [
    "#The output area will show the text representation of the string \"Hello world!\"\n",
    "\"Hello world!\""
   ]
  },
  {
   "cell_type": "code",
   "execution_count": 3,
   "id": "47fe23bc-0304-440d-9949-7c233ef9a254",
   "metadata": {},
   "outputs": [
    {
     "name": "stdout",
     "output_type": "stream",
     "text": [
      "/media/thiago/75A7-0BDE/projetos/pytorch-cookbook/cookbook\n"
     ]
    }
   ],
   "source": [
    "#We can also execute shell code!\n",
    "!pwd"
   ]
  },
  {
   "cell_type": "code",
   "execution_count": null,
   "id": "ca2ab942-a663-4a72-994a-0be156aa1045",
   "metadata": {},
   "outputs": [],
   "source": []
  }
 ],
 "metadata": {
  "kernelspec": {
   "display_name": "Python 3 (ipykernel)",
   "language": "python",
   "name": "python3"
  },
  "language_info": {
   "codemirror_mode": {
    "name": "ipython",
    "version": 3
   },
   "file_extension": ".py",
   "mimetype": "text/x-python",
   "name": "python",
   "nbconvert_exporter": "python",
   "pygments_lexer": "ipython3",
   "version": "3.10.0"
  }
 },
 "nbformat": 4,
 "nbformat_minor": 5
}
